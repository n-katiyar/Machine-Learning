{
  "nbformat": 4,
  "nbformat_minor": 0,
  "metadata": {
    "kernelspec": {
      "display_name": "Python 3",
      "language": "python",
      "name": "python3"
    },
    "language_info": {
      "codemirror_mode": {
        "name": "ipython",
        "version": 3
      },
      "file_extension": ".py",
      "mimetype": "text/x-python",
      "name": "python",
      "nbconvert_exporter": "python",
      "pygments_lexer": "ipython3",
      "version": "3.7.4"
    },
    "colab": {
      "name": "Bankrupcy_Final.ipynb",
      "provenance": [],
      "collapsed_sections": []
    }
  },
  "cells": [
    {
      "cell_type": "code",
      "metadata": {
        "id": "PTh44-iG89Vh"
      },
      "source": [
        "import numpy as np\n",
        "import pandas as pd\n",
        "import matplotlib.pyplot as plt\n",
        "import seaborn as sns\n",
        "from pylab import rcParams\n",
        "np.random.seed(1234)\n",
        "import sys\n",
        "from sklearn.metrics import confusion_matrix\n",
        "from sklearn.metrics import precision_recall_curve, plot_precision_recall_curve, roc_curve, precision_score, recall_score\n",
        "import sklearn.feature_selection as skf\n",
        "import sklearn.model_selection as skm\n",
        "import matplotlib.pyplot as plt\n",
        "from scipy import stats\n",
        "import time\n",
        "import os\n",
        "import timeit\n",
        "from google.colab import files"
      ],
      "execution_count": 190,
      "outputs": []
    },
    {
      "cell_type": "code",
      "metadata": {
        "id": "R29S-aC49f2H",
        "outputId": "47c24798-176f-440a-a1a5-97d4e9c489eb",
        "colab": {
          "base_uri": "https://localhost:8080/",
          "height": 35
        }
      },
      "source": [
        "## mount drive\n",
        "from google.colab import drive\n",
        "drive.mount('/content/drive')"
      ],
      "execution_count": 191,
      "outputs": [
        {
          "output_type": "stream",
          "text": [
            "Drive already mounted at /content/drive; to attempt to forcibly remount, call drive.mount(\"/content/drive\", force_remount=True).\n"
          ],
          "name": "stdout"
        }
      ]
    },
    {
      "cell_type": "markdown",
      "metadata": {
        "id": "1YXh9zUqMaZD"
      },
      "source": [
        "# Classes\n",
        "Build for logistic classifier: We implement our models as python classes. Two class methods that we usually need to implement are fit and predict; which respectively perform training by fitting the data, and making prediction on new data. In the __init__ function, we initialize our model, usually this includes an assignment to hyper-parameters.\n",
        "\n",
        "sigmoid_function(): this function would calculate the sigmoid parameter, which would be used further in fit function."
      ]
    },
    {
      "cell_type": "code",
      "metadata": {
        "id": "J13Q-3nq92me"
      },
      "source": [
        "class LogisticRegression():\n",
        "    \n",
        "    def __init__(self, w, lr):\n",
        "        self.w = w\n",
        "        self.lr = lr\n",
        "        \n",
        "    def sigmoid_function(self,x):\n",
        "        return  (1 / (1 + np.exp(-x)))       \n",
        "    \n",
        "    def cost_function(self,w, x, y):\n",
        "        m = len(y)\n",
        "        a = np.dot(x,w)\n",
        "        y_pred = self.sigmoid_function(a)\n",
        "        error = y*np.log(y_pred) + (1-y)*np.log(1-y_pred)\n",
        "        cross_entropy  = -(1/m) * sum(error)               \n",
        "        gradient = (1/m)*(np.dot(x.transpose(), (y_pred-y)))\n",
        "    \n",
        "        return cross_entropy, gradient\n",
        "\n",
        "    def grad_descent(self,x, y, w_in, lr):\n",
        "        entropies = []\n",
        "        gradient = np.inf\n",
        "        w_error = np.inf  ######Test (for creating table 3 in the report)\n",
        "        n = 0\n",
        "        while np.linalg.norm(gradient) > 10**-2:\n",
        "        # while w_error > 10**-8: ######Test\n",
        "          cross_entropy, gradient = self.cost_function(w_in, x, y)\n",
        "          w_in -= lr * gradient\n",
        "          # w_update = w_in - lr * gradient ######Test\n",
        "          # w_error = (np.linalg.norm(w_in - w_update))**2  ######Test\n",
        "          # w_in = w_update ######Test\n",
        "          entropies.append(cross_entropy)\n",
        "          n += 1\n",
        "    \n",
        "        return w_in, entropies, n\n",
        "\n",
        "    def fit(self, x, y):\n",
        "        rows = x.shape[0]\n",
        "        column = x.shape[1]\n",
        "        optimized_weight, entropies, n = self.grad_descent(x, y, self.w, self.lr)\n",
        "        \n",
        "        return optimized_weight, entropies, n\n",
        "    \n",
        "    def predict(self,w,x):\n",
        "        result = x.dot(w)\n",
        "        y_pred = self.sigmoid_function(result)\n",
        "        y_pred_cls = [1 if i > 0.5 else 0 for i in result]\n",
        "        y_pred_cls = np.array(y_pred_cls)\n",
        "        p = y_pred_cls.reshape(len(x),1)\n",
        "        \n",
        "        return p  "
      ],
      "execution_count": 192,
      "outputs": []
    },
    {
      "cell_type": "markdown",
      "metadata": {
        "id": "VP34HkJhv51B"
      },
      "source": [
        "Definig functions for calculating accuracy, correlation matrix, error, 10-fold cross section, and other perfomance metrics."
      ]
    },
    {
      "cell_type": "code",
      "metadata": {
        "id": "LN_cErvz-Gcn"
      },
      "source": [
        "class CustomMethods():\n",
        "    def __init__():\n",
        "            pass\n",
        "\n",
        "    def Accu_eval(y_actual, y_pred):\n",
        "        accuracy = np.sum(y_actual==y_pred) / len(y_actual) * 100\n",
        "    \n",
        "        return accuracy\n",
        "    \n",
        "    def conf_matrix(y_actual,y_predicted):\n",
        "        y_predicted = np.array(y_predicted, dtype=\"int64\")\n",
        "        y_actual = np.array(y_actual, dtype=\"int64\")\n",
        "        tp, fp, tn, fn = 0, 0, 0, 0\n",
        "        for i in range (len(y_actual)-1):\n",
        "            if ((y_actual[i,0] == 1) & (y_predicted[i,0] == 1)):\n",
        "                tp += 1        \n",
        "            elif((y_actual[i,0] == 0) & (y_predicted[i,0] == 0)):\n",
        "                tn += 1        \n",
        "            elif((y_actual[i,0] == 0) & (y_predicted[i,0] == 1)):\n",
        "                fp += 1       \n",
        "            elif((y_actual[i,0] == 1) & (y_predicted[i,0] == 0)):\n",
        "                fn +=1\n",
        "                \n",
        "            matrix = np.array([[tp, fp], [fn, tn]])\n",
        "    \n",
        "        return matrix, tp, tn, fp, fn\n",
        "    \n",
        "    def error(x,y):\n",
        "        acc = Accu_eval(x,y)\n",
        "        error = (1-(acc/100))*100\n",
        "    \n",
        "        return error\n",
        "\n",
        "    def recall(y_actual,y_predicted):\n",
        "        matrix, tp, tn, fp, fn = conf_matrix(y_actual,y_predicted)\n",
        "        recall_v = tp / (tP+fn)\n",
        "    \n",
        "        return recall_v\n",
        "\n",
        "    def specificity(y_actual,y_predicted):\n",
        "        matrix, tp, tn, fp, fn = conf_matrix(y_actual,y_predicted)\n",
        "        specificity_v = tn / fp+tn\n",
        "    \n",
        "        return specificity_v\n",
        "\n",
        "    def precision(y_actual,y_predicted):\n",
        "        matrix, tp, tn, fp, fn = conf_matrix(y_actual,y_predicted)\n",
        "        precision_v = tp / (fp+tp)\n",
        "    \n",
        "        return precision_v    \n",
        "    \n",
        "    def z_score(x):\n",
        "        mean_score = np.mean(x, axis=0)\n",
        "        std_score = np.std(x, axis=0)\n",
        "        x = (x-mean_score)/std_score\n",
        "        \n",
        "        return x\n",
        "    \n",
        "    def Kfold_cross(x_in,y_in,w):\n",
        "        start = timeit.default_timer()\n",
        "        dimension=x_in.shape\n",
        "        N = dimension[0]\n",
        "        M = dimension[1]\n",
        "        accuracy = np.zeros((10, 1))\n",
        "        for i in range(10):\n",
        "            l = random_ind[(N//10 * i): (N//10 * (i + 1))]\n",
        "            Y_validation = y_in[l]\n",
        "            X_validation = x_in[l,:]\n",
        "            Y_training = np.delete(y_in, random_ind[N//10 * i: N//10 * (i + 1)], 0)  #The value 0 at the end is the axis used for rows\n",
        "            X_training = np.delete(x_in, random_ind[N//10 * i: N//10 * (i + 1)], 0)\n",
        "            if i == 9:\n",
        "                Y_validation = y_in[random_ind[N//10 * i: ]] #The total rows of the whole dataset is not a multiplication of 10; therefore, the validation sets are not of equal size\n",
        "                X_validation = x_in[random_ind[N//10 * i: ], :]    \n",
        "                Y_training = np.delete(y_in, random_ind[N//10 * i: ], 0)\n",
        "                X_training = np.delete(x_in, random_ind[N//10 * i: ], 0)     \n",
        "            regressor = LogisticRegression(w, lr=0.01)\n",
        "            o_w , o_cost, n = regressor.fit(X_training, Y_training)\n",
        "            p = regressor.predict(o_w,X_validation)\n",
        "            accuracy[i] = CustomMethods.Accu_eval(Y_validation, p)\n",
        "            print(accuracy[i], 'Accuracy for fold', i + 1)\n",
        "            print((100-accuracy[i]), 'Error for fold', i + 1)\n",
        "        stop = timeit.default_timer()\n",
        "        print('Time: ', stop - start)     \n",
        "        return o_w, o_cost, accuracy, n\n",
        "    \n",
        "    def initialization(x,y):\n",
        "        rows = x.shape[0]\n",
        "        column = x.shape[1]\n",
        "        x_mod = np.append(np.ones((rows,1)), x, axis=1)\n",
        "        y_mod = y.reshape(rows, 1)\n",
        "        w_initial = np.zeros((column+1, 1))\n",
        "    \n",
        "        return x_mod, y_mod, w_initial\n",
        "\n",
        "    def correlation(dataset, thresold):\n",
        "      col_corr = set()\n",
        "      corr_matrix = dataset.corr()\n",
        "      for i in range(len(corr_matrix.columns)):\n",
        "          for j in range (i):\n",
        "              if abs(corr_matrix.iloc[i,j]) > thresold:\n",
        "                  colname = corr_matrix.columns[i]\n",
        "                  col_corr.add(colname)\n",
        "      return col_corr\n",
        "\n",
        "    def split(x_in,y_in):\n",
        "      rows=x_in.shape[0]\n",
        "      N_validation=rows//5;            # total number of data for validation\n",
        "      N_training=rows-N_validation;    # total number of data for training\n",
        "      X_training = x_in[random_ind[0:N_training], :]\n",
        "      Y_training = y_in[random_ind[0:N_training], :]\n",
        "      X_validation = np.delete(x_in, random_ind[0:N_training], 0)\n",
        "      Y_validation = np.delete(y_in, random_ind[0:N_training], 0)\n",
        "\n",
        "      print(\"shape of train data:\")\n",
        "      print(X_training.shape, Y_training.shape)\n",
        "      print(\"shape of validation data:\")\n",
        "      print(X_validation.shape, Y_validation.shape)\n",
        "    \n",
        "      return X_training, X_validation, Y_training, Y_validation"
      ],
      "execution_count": 193,
      "outputs": []
    },
    {
      "cell_type": "markdown",
      "metadata": {
        "id": "SkB4ahjO_GPK"
      },
      "source": [
        "# Load your data"
      ]
    },
    {
      "cell_type": "code",
      "metadata": {
        "id": "QE78ol2K89V5"
      },
      "source": [
        "Bankrupcy_csv = pd.read_csv('/content/drive/My Drive/Colab Notebooks/bankrupcy.csv')"
      ],
      "execution_count": 194,
      "outputs": []
    },
    {
      "cell_type": "markdown",
      "metadata": {
        "id": "x4TGKK0ralgD"
      },
      "source": [
        "# Data visualization"
      ]
    },
    {
      "cell_type": "code",
      "metadata": {
        "id": "9GLJbvMYaoKk"
      },
      "source": [
        "sns.set(style=\"white\")\n",
        "corr = Bankrupcy_csv.corr()\n",
        "f, ax = plt.subplots(figsize=(18, 18))\n",
        "cmap = sns.diverging_palette(220, 10, as_cmap=True)\n",
        "sns.heatmap(corr, cmap=cmap, vmax=.3, center=0, square=True, linewidths=.5, cbar_kws={\"shrink\": .5})\n",
        "plt.show()"
      ],
      "execution_count": null,
      "outputs": []
    },
    {
      "cell_type": "code",
      "metadata": {
        "id": "bZFc_M08bBHc"
      },
      "source": [
        "y = Bankrupcy_csv[\"ClassLabel\"].values\n",
        "x = Bankrupcy_csv.drop(columns=[\"ClassLabel\"]).values\n",
        "class1 = (y==1).reshape(len(y),1) \n",
        "class0 = (y==0).reshape(len(y),1)\n",
        "a = x[class1[:,0], 50]\n",
        "b = x[class1[:,0], 1]\n",
        "c = x[class0[:,0], 50]\n",
        "d = x[class0[:,0], 1]\n",
        "plt.figure(figsize=(12,12))\n",
        "plt.scatter(a, b, marker='X', color='green', s=90)\n",
        "plt.scatter(c, d, marker='^', color='red', s=90)\n",
        "plt.xlabel('Attribute51')\n",
        "plt.ylabel('Attribute2')\n",
        "plt.title('Data distribution for attribute 51 and attribute 1 over class 0 and 1')\n",
        "plt.legend(['Class 1', 'Classs 0'])\n",
        "plt.show()"
      ],
      "execution_count": null,
      "outputs": []
    },
    {
      "cell_type": "code",
      "metadata": {
        "id": "cV-KGgtPcOqD"
      },
      "source": [
        "(data['ClassLabel']).value_counts().plot(kind ='pie', autopct='%1.2f%%')\n",
        "plt.show();"
      ],
      "execution_count": null,
      "outputs": []
    },
    {
      "cell_type": "markdown",
      "metadata": {
        "id": "c5D6BkTb89Zn"
      },
      "source": [
        "# Model 1\n",
        "Using raw data without any data standarization"
      ]
    },
    {
      "cell_type": "code",
      "metadata": {
        "id": "qXE0KxKi89Zp"
      },
      "source": [
        "Bankrupcy_csv = pd.read_csv('/content/drive/My Drive/Colab Notebooks/bankrupcy.csv')\n",
        "y = Bankrupcy_csv[\"ClassLabel\"].values\n",
        "x = Bankrupcy_csv.drop(columns=[\"ClassLabel\"]).values\n",
        "rows=x.shape[0]"
      ],
      "execution_count": 198,
      "outputs": []
    },
    {
      "cell_type": "code",
      "metadata": {
        "id": "o3xGSMc5uIAq"
      },
      "source": [
        "# create random indices\n",
        "random_ind = np.random.choice(len(y), size = rows, replace = False)\n",
        "save = random_ind"
      ],
      "execution_count": 206,
      "outputs": []
    },
    {
      "cell_type": "code",
      "metadata": {
        "id": "l1mTeUz-89aI",
        "outputId": "9b938a23-24cd-4d09-ea0a-40c0767328b2",
        "colab": {
          "base_uri": "https://localhost:8080/",
          "height": 164
        }
      },
      "source": [
        "x, y, w_initial=CustomMethods.initialization(x,y)\n",
        "train_X, test_X, train_y, test_y=CustomMethods.split(x,y)\n",
        "print(\"shape of train data:\")\n",
        "print(train_X.shape, train_y.shape)\n",
        "print(\"shape of test data:\")\n",
        "print(test_X.shape, test_y.shape)"
      ],
      "execution_count": 207,
      "outputs": [
        {
          "output_type": "stream",
          "text": [
            "shape of train data:\n",
            "(363, 66) (363, 1)\n",
            "shape of validation data:\n",
            "(90, 66) (90, 1)\n",
            "shape of train data:\n",
            "(363, 66) (363, 1)\n",
            "shape of test data:\n",
            "(90, 66) (90, 1)\n"
          ],
          "name": "stdout"
        }
      ]
    },
    {
      "cell_type": "code",
      "metadata": {
        "id": "f0yNvEb789aQ"
      },
      "source": [
        "regressor = LogisticRegression(w_initial, lr=0.01)\n",
        "o_w, o_c, n = regressor.fit(train_X,train_y)\n",
        "y_pred_train = regressor.predict(o_w, train_X)\n",
        "y_pred_test = regressor.predict(o_w, test_X)"
      ],
      "execution_count": 201,
      "outputs": []
    },
    {
      "cell_type": "code",
      "metadata": {
        "id": "KWoaTsnq89ad",
        "outputId": "82e6193a-3c2c-4455-afc0-832509409384",
        "colab": {
          "base_uri": "https://localhost:8080/",
          "height": 54
        }
      },
      "source": [
        "train_acc = CustomMethods.Accu_eval(train_y, y_pred_train)\n",
        "test_acc = CustomMethods.Accu_eval(test_y,y_pred_test)\n",
        "print(\"Train Accuracy:\", train_acc)\n",
        "print(\"Test Accuracy:\", test_acc)"
      ],
      "execution_count": 208,
      "outputs": [
        {
          "output_type": "stream",
          "text": [
            "Train Accuracy: 58.1267217630854\n",
            "Test Accuracy: 66.66666666666666\n"
          ],
          "name": "stdout"
        }
      ]
    },
    {
      "cell_type": "code",
      "metadata": {
        "id": "Cnz0gvt689as"
      },
      "source": [
        "## 10-fold cross validation!\n",
        "\n",
        "dimension = x.shape\n",
        "N = dimension[0]\n",
        "random_ind = np.random.choice(len(y), size = N, replace = False)\n",
        "w,c,a,n = CustomMethods.Kfold_cross(x,y,w_initial)\n",
        "print(\"Average Accuracy\", np.mean(a))\n",
        "print(\"Average error\", np.mean(100-a))"
      ],
      "execution_count": null,
      "outputs": []
    },
    {
      "cell_type": "code",
      "metadata": {
        "id": "8RjAbU78BM2N"
      },
      "source": [
        "recall_score(test_y, y_pred_test), precision_score(test_y, y_pred_test) "
      ],
      "execution_count": null,
      "outputs": []
    },
    {
      "cell_type": "markdown",
      "metadata": {
        "id": "8eiuHSyn89WH"
      },
      "source": [
        "# Model 2\n",
        "Using pearson correlation cofficient to remove higly correlated features from the data set. as we have high number of features hence setting the thershold for filtering the features to 0.9 (90% correlated)"
      ]
    },
    {
      "cell_type": "code",
      "metadata": {
        "id": "2VJG84by89WK"
      },
      "source": [
        "Bankrupcy_csv = pd.read_csv('/content/drive/My Drive/Colab Notebooks/bankrupcy.csv')\n",
        "data = Bankrupcy_csv\n",
        "data_array = data.values\n",
        "rows = x.shape[0]\n",
        "column = x.shape[1]\n",
        "y = data[\"ClassLabel\"].values\n",
        "x = data.drop(columns=[\"ClassLabel\"])\n",
        "x, y, w_initial=CustomMethods.initialization(x,y)"
      ],
      "execution_count": 210,
      "outputs": []
    },
    {
      "cell_type": "code",
      "metadata": {
        "id": "UuuD20_n89WY",
        "outputId": "3cef1ba0-1916-4e3f-fb99-83571ae6a433",
        "colab": {
          "base_uri": "https://localhost:8080/",
          "height": 90
        }
      },
      "source": [
        "train_X, test_X, train_Y, test_Y = CustomMethods.split(x,y)"
      ],
      "execution_count": 211,
      "outputs": [
        {
          "output_type": "stream",
          "text": [
            "shape of train data:\n",
            "(363, 65) (363, 1)\n",
            "shape of validation data:\n",
            "(90, 65) (90, 1)\n"
          ],
          "name": "stdout"
        }
      ]
    },
    {
      "cell_type": "markdown",
      "metadata": {
        "id": "4ZxsxifN89Wt"
      },
      "source": [
        "We used person correlation matrix to identify mutually correlated features.Here we can see there are 29 features which are highly correlated with other features in the dataset, hence we can remove them."
      ]
    },
    {
      "cell_type": "code",
      "metadata": {
        "id": "psI8rX5byRL_"
      },
      "source": [
        "thresold=0.927\n",
        "col_corr = set()\n",
        "corr_matrix = data.corr()\n",
        "for i in range(len(corr_matrix.columns)):\n",
        "  for j in range (i):\n",
        "    if abs(corr_matrix.iloc[i,j]) > thresold:\n",
        "      colname = corr_matrix.columns[i]\n",
        "      col_corr.add(colname)"
      ],
      "execution_count": 212,
      "outputs": []
    },
    {
      "cell_type": "code",
      "metadata": {
        "id": "bb_lqI6l89Wx",
        "outputId": "4abbfb24-0b7e-40c3-b1b7-d6317ddd0afd",
        "colab": {
          "base_uri": "https://localhost:8080/",
          "height": 35
        }
      },
      "source": [
        "dropfeat=col_corr\n",
        "len(set(dropfeat))"
      ],
      "execution_count": 213,
      "outputs": [
        {
          "output_type": "execute_result",
          "data": {
            "text/plain": [
              "29"
            ]
          },
          "metadata": {
            "tags": []
          },
          "execution_count": 213
        }
      ]
    },
    {
      "cell_type": "markdown",
      "metadata": {
        "id": "v9b6SsjdCMei"
      },
      "source": [
        " list of higly correlated cofficient (positive and negative) which can be removed"
      ]
    },
    {
      "cell_type": "code",
      "metadata": {
        "id": "eGQwysc789XA"
      },
      "source": [
        "dropfeat"
      ],
      "execution_count": null,
      "outputs": []
    },
    {
      "cell_type": "code",
      "metadata": {
        "id": "iP4aTcqc89Xm"
      },
      "source": [
        "Y = y\n",
        "X = data.drop(dropfeat, axis=1)\n",
        "X = X.drop(columns='ClassLabel').values\n",
        "print(y.shape)\n",
        "print(X.shape)\n",
        "X_in, Y_in, w_initial = CustomMethods.initialization(X,Y)"
      ],
      "execution_count": null,
      "outputs": []
    },
    {
      "cell_type": "code",
      "metadata": {
        "id": "JjVZ4oZo89X2"
      },
      "source": [
        "## 10-fold cross validation\n",
        "dimension = x.shape\n",
        "N = dimension[0]\n",
        "random_ind = np.random.choice(len(y), size = N, replace = False)\n",
        "o_w,o_c,a,n = CustomMethods.Kfold_cross(X_in,Y_in,w_initial)\n",
        "print(\"Average Accuracy\", np.mean(a))\n",
        "print(\"Average error\", np.mean(100-a))"
      ],
      "execution_count": null,
      "outputs": []
    },
    {
      "cell_type": "code",
      "metadata": {
        "id": "iolA7ahg89YJ"
      },
      "source": [
        "confusion_matrix(test_y, y_pred_test)"
      ],
      "execution_count": null,
      "outputs": []
    },
    {
      "cell_type": "code",
      "metadata": {
        "id": "DBst9jtm89Yd"
      },
      "source": [
        "train_X, test_X, train_Y, test_Y = CustomMethods.split(X_in,Y_in)\n",
        "regressor = LogisticRegression(w_initial, lr=0.01)\n",
        "o_w, o_c, n = regressor.fit(train_X,train_Y)\n",
        "y_pred_train = regressor.predict(o_w, train_X)\n",
        "y_pred_test = regressor.predict(o_w, test_X)\n",
        "train_acc = CustomMethods.Accu_eval(train_Y, y_pred_train)\n",
        "test_acc = CustomMethods.Accu_eval(test_Y,y_pred_test)\n",
        "print(\"Train Accuracy:\", train_acc)\n",
        "print(\"Test Accuracy:\", test_acc)"
      ],
      "execution_count": null,
      "outputs": []
    },
    {
      "cell_type": "code",
      "metadata": {
        "id": "BBlh7szA89Yq"
      },
      "source": [
        "plt.plot(o_c)\n",
        "plt.xlabel('Iterations')\n",
        "plt.ylabel('Entropy')\n",
        "plt.title('Value of cost over iterations')"
      ],
      "execution_count": null,
      "outputs": []
    },
    {
      "cell_type": "code",
      "metadata": {
        "id": "nXWQKJkK89Y8"
      },
      "source": [
        "fpr, tpr, thershold = roc_curve(test_Y, y_pred_test)\n"
      ],
      "execution_count": 222,
      "outputs": []
    },
    {
      "cell_type": "code",
      "metadata": {
        "id": "pE-kTBCY89ZN"
      },
      "source": [
        "plt.figure()\n",
        "plt.plot(fpr, tpr)\n",
        "plt.xlabel(\"False positive rate\")\n",
        "plt.ylabel(\"True positive rate\")\n",
        "plt.title(\"ROC curve\")"
      ],
      "execution_count": null,
      "outputs": []
    },
    {
      "cell_type": "code",
      "metadata": {
        "id": "eG4nOnz289ZZ",
        "outputId": "31c4f6f9-5451-4ec5-fcb6-98cd6e5664b0",
        "colab": {
          "base_uri": "https://localhost:8080/",
          "height": 35
        }
      },
      "source": [
        "recall_score(test_Y, y_pred_test), precision_score(test_Y,y_pred_test)"
      ],
      "execution_count": 225,
      "outputs": [
        {
          "output_type": "execute_result",
          "data": {
            "text/plain": [
              "(0.6666666666666666, 0.7741935483870968)"
            ]
          },
          "metadata": {
            "tags": []
          },
          "execution_count": 225
        }
      ]
    },
    {
      "cell_type": "markdown",
      "metadata": {
        "id": "jg3EcgRa89bA"
      },
      "source": [
        "# Model 3\n",
        "Same as model 2 + expanding the features to 2nd order polynomial: squares of positive and negative correlated features (positive correlated attributes: atr2, atr51 & negative attributes: atr25, atr35, atr7, atr16, atr38) + atr2*atr51"
      ]
    },
    {
      "cell_type": "code",
      "metadata": {
        "id": "RYa1utJE89bN"
      },
      "source": [
        "Bankrupcy_csv = pd.read_csv('/content/drive/My Drive/Colab Notebooks/bankrupcy.csv')\n",
        "\n",
        "sqr_atr2 = (Bankrupcy_csv['attribute2'])**2\n",
        "sqr_atr51 = (Bankrupcy_csv['attribute51'])**2\n",
        "sqr_atr25 = (Bankrupcy_csv['attribute25'])**2\n",
        "sqr_atr35 = (Bankrupcy_csv['attribute35'])**2\n",
        "sqr_atr7 = (Bankrupcy_csv['attribute7'])**2\n",
        "sqr_atr16 = (Bankrupcy_csv['attribute16'])**2\n",
        "sqr_atr38 = (Bankrupcy_csv['attribute38'])**2\n",
        "mul_atr2_51 = (Bankrupcy_csv['attribute2'] * Bankrupcy_csv['attribute51'])\n"
      ],
      "execution_count": 226,
      "outputs": []
    },
    {
      "cell_type": "code",
      "metadata": {
        "id": "ai92D1GV89bX"
      },
      "source": [
        "Bankrupcy_csv['sqr_atr2'] = sqr_atr2\n",
        "Bankrupcy_csv['sqr_atr51'] = sqr_atr51\n",
        "Bankrupcy_csv['sqr_atr25'] = sqr_atr25\n",
        "Bankrupcy_csv['sqr_atr35'] = sqr_atr35\n",
        "Bankrupcy_csv['sqr_atr7'] = sqr_atr7\n",
        "Bankrupcy_csv['sqr_atr16'] = sqr_atr16\n",
        "Bankrupcy_csv['sqr_atr38'] = sqr_atr38\n",
        "Bankrupcy_csv['mul_atr2_51'] = mul_atr2_51\n",
        "\n"
      ],
      "execution_count": 227,
      "outputs": []
    },
    {
      "cell_type": "code",
      "metadata": {
        "id": "ndrtjKHx89bt"
      },
      "source": [
        "Y = Bankrupcy_csv[\"ClassLabel\"].values\n",
        "x = Bankrupcy_csv.drop(columns=['ClassLabel'])\n",
        "X = x.drop(dropfeat, axis=1).values\n",
        "print(Y.shape)\n",
        "print(X.shape)"
      ],
      "execution_count": null,
      "outputs": []
    },
    {
      "cell_type": "code",
      "metadata": {
        "id": "7xKRgV5v89b2"
      },
      "source": [
        "X_in, Y_in, w_initial = CustomMethods.initialization(X,Y)"
      ],
      "execution_count": 229,
      "outputs": []
    },
    {
      "cell_type": "code",
      "metadata": {
        "id": "vEdtQVPW89cD"
      },
      "source": [
        "## 10-fold cross validation\n",
        "\n",
        "o_w,o_c,a,n = CustomMethods.Kfold_cross(X_in,Y_in,w_initial)\n",
        "print(\"Average Accuracy\", np.mean(a))\n",
        "print(\"Average error\", np.mean(100-a))"
      ],
      "execution_count": null,
      "outputs": []
    },
    {
      "cell_type": "code",
      "metadata": {
        "id": "-gLrGFEr89cO"
      },
      "source": [
        "train_X, test_X, train_y, test_y = CustomMethods.split(X_in,Y_in)\n",
        "print(\"shape of train data:\")\n",
        "print(train_X.shape, train_y.shape)\n",
        "print(\"shape of test data:\")\n",
        "print(test_X.shape, test_y.shape)"
      ],
      "execution_count": null,
      "outputs": []
    },
    {
      "cell_type": "code",
      "metadata": {
        "id": "UJHAm8PV89cW"
      },
      "source": [
        "regressor = LogisticRegression(w_initial, lr=0.01)\n",
        "o_w, o_c, n = regressor.fit(train_X,train_y)\n",
        "y_pred_train = regressor.predict(o_w, train_X)\n",
        "y_pred_test = regressor.predict(o_w, test_X)"
      ],
      "execution_count": 232,
      "outputs": []
    },
    {
      "cell_type": "code",
      "metadata": {
        "id": "4Mo1r0FR89ci",
        "outputId": "de524cca-733f-479a-a806-68f266b11090",
        "colab": {
          "base_uri": "https://localhost:8080/",
          "height": 54
        }
      },
      "source": [
        "train_acc = CustomMethods.Accu_eval(train_y, y_pred_train)\n",
        "test_acc = CustomMethods.Accu_eval(test_y,y_pred_test)\n",
        "print(\"Train Accuracy:\", train_acc)\n",
        "print(\"Test Accuracy:\", test_acc)"
      ],
      "execution_count": 233,
      "outputs": [
        {
          "output_type": "stream",
          "text": [
            "Train Accuracy: 77.13498622589532\n",
            "Test Accuracy: 75.55555555555556\n"
          ],
          "name": "stdout"
        }
      ]
    },
    {
      "cell_type": "code",
      "metadata": {
        "id": "93BawwyX89cu",
        "outputId": "b7c1c853-be68-4149-9c08-8d40a0999426",
        "colab": {
          "base_uri": "https://localhost:8080/",
          "height": 35
        }
      },
      "source": [
        "recall_score(test_Y, y_pred_test), precision_score(test_Y,y_pred_test)\n"
      ],
      "execution_count": 234,
      "outputs": [
        {
          "output_type": "execute_result",
          "data": {
            "text/plain": [
              "(0.6388888888888888, 0.71875)"
            ]
          },
          "metadata": {
            "tags": []
          },
          "execution_count": 234
        }
      ]
    },
    {
      "cell_type": "code",
      "metadata": {
        "id": "SdzbDj3fFYAs"
      },
      "source": [
        "plt.plot(o_c)\n",
        "plt.xlabel('Iterations')\n",
        "plt.ylabel('Entropy')\n",
        "plt.title('Value of cost over iterations')"
      ],
      "execution_count": null,
      "outputs": []
    },
    {
      "cell_type": "code",
      "metadata": {
        "id": "KPke3HSCF53d"
      },
      "source": [
        "plt.figure()\n",
        "plt.plot(fpr, tpr)\n",
        "plt.xlabel(\"False positive rate\")\n",
        "plt.ylabel(\"True positive rate\")\n",
        "plt.title(\"ROC curve\")"
      ],
      "execution_count": null,
      "outputs": []
    },
    {
      "cell_type": "markdown",
      "metadata": {
        "id": "ZerzY1xp89dE"
      },
      "source": [
        "# Model 4 \n",
        "Same as model 3 + outlier removal"
      ]
    },
    {
      "cell_type": "code",
      "metadata": {
        "id": "MNVHK52l89dG",
        "outputId": "98e420ff-4106-494e-b799-9614fdef86ba",
        "colab": {
          "base_uri": "https://localhost:8080/",
          "height": 35
        }
      },
      "source": [
        "Bankrupcy_csv = pd.read_csv('/content/drive/My Drive/Colab Notebooks/bankrupcy.csv')\n",
        "data = Bankrupcy_csv\n",
        "data.shape"
      ],
      "execution_count": 238,
      "outputs": [
        {
          "output_type": "execute_result",
          "data": {
            "text/plain": [
              "(453, 65)"
            ]
          },
          "metadata": {
            "tags": []
          },
          "execution_count": 238
        }
      ]
    },
    {
      "cell_type": "code",
      "metadata": {
        "id": "HdD1oxGe89dW"
      },
      "source": [
        "sqr_atr2 = (data['attribute2'])**2\n",
        "sqr_atr51 = (data['attribute51'])**2\n",
        "sqr_atr25 = (data['attribute25'])**2\n",
        "sqr_atr35 = (data['attribute35'])**2\n",
        "sqr_atr7 = (data['attribute7'])**2\n",
        "sqr_atr16 = (data['attribute16'])**2\n",
        "sqr_atr38 = (data['attribute38'])**2\n",
        "mul_atr2_51 = (data['attribute2'] * data['attribute51'])\n",
        "\n"
      ],
      "execution_count": 239,
      "outputs": []
    },
    {
      "cell_type": "code",
      "metadata": {
        "id": "Hv7M_30v89dh"
      },
      "source": [
        "data['sqr_atr2'] = sqr_atr2\n",
        "data['sqr_atr51'] = sqr_atr51\n",
        "data['sqr_atr25'] = sqr_atr25\n",
        "data['sqr_atr35'] = sqr_atr35\n",
        "data['sqr_atr7'] = sqr_atr7\n",
        "data['sqr_atr16'] = sqr_atr16\n",
        "data['sqr_atr38'] = sqr_atr38\n",
        "data['mul_atr2_51'] = mul_atr2_51\n"
      ],
      "execution_count": 240,
      "outputs": []
    },
    {
      "cell_type": "code",
      "metadata": {
        "id": "xfkb9mrw89dp",
        "outputId": "f0e30062-00c3-4e3b-d45a-2e1f93004b10",
        "colab": {
          "base_uri": "https://localhost:8080/",
          "height": 35
        }
      },
      "source": [
        "data_post_feat = data.drop(dropfeat, axis=1)\n",
        "data_post_feat.shape"
      ],
      "execution_count": 241,
      "outputs": [
        {
          "output_type": "execute_result",
          "data": {
            "text/plain": [
              "(453, 44)"
            ]
          },
          "metadata": {
            "tags": []
          },
          "execution_count": 241
        }
      ]
    },
    {
      "cell_type": "markdown",
      "metadata": {
        "id": "VlBItteuHTCN"
      },
      "source": [
        "Range calculation for removing outliers"
      ]
    },
    {
      "cell_type": "code",
      "metadata": {
        "id": "4wYPRsVj89d2"
      },
      "source": [
        "mean = np.mean(np.mean(data_post_feat))\n",
        "std = np.std(np.std(data_post_feat))\n"
      ],
      "execution_count": 242,
      "outputs": []
    },
    {
      "cell_type": "code",
      "metadata": {
        "id": "Tcme6x0gIGmX",
        "outputId": "b3454e1a-8e8a-4b99-9366-d36d7c1405b4",
        "colab": {
          "base_uri": "https://localhost:8080/",
          "height": 35
        }
      },
      "source": [
        "mean, std"
      ],
      "execution_count": 243,
      "outputs": [
        {
          "output_type": "execute_result",
          "data": {
            "text/plain": [
              "(0.03946923176344824, 0.8529677387510027)"
            ]
          },
          "metadata": {
            "tags": []
          },
          "execution_count": 243
        }
      ]
    },
    {
      "cell_type": "code",
      "metadata": {
        "id": "ckIfJl7q89d-",
        "outputId": "4c9f04a6-ff32-412e-ef62-6fd1ee039448",
        "colab": {
          "base_uri": "https://localhost:8080/",
          "height": 35
        }
      },
      "source": [
        "maxi =  mean + std*4\n",
        "mini = mean - std*4\n",
        "maxi, mini"
      ],
      "execution_count": 244,
      "outputs": [
        {
          "output_type": "execute_result",
          "data": {
            "text/plain": [
              "(3.4513401867674594, -3.3724017232405625)"
            ]
          },
          "metadata": {
            "tags": []
          },
          "execution_count": 244
        }
      ]
    },
    {
      "cell_type": "code",
      "metadata": {
        "id": "176kjrFNSoYN"
      },
      "source": [
        "z = np.abs(stats.zscore(data))"
      ],
      "execution_count": 245,
      "outputs": []
    },
    {
      "cell_type": "code",
      "metadata": {
        "id": "WrqE8tjS89fI"
      },
      "source": [
        "data_o = data_post_feat[(z<3.5).all(axis=1)]"
      ],
      "execution_count": 249,
      "outputs": []
    },
    {
      "cell_type": "code",
      "metadata": {
        "id": "4srlChrT89fX",
        "outputId": "f9f46700-2044-4806-d784-2f6755f21509",
        "colab": {
          "base_uri": "https://localhost:8080/",
          "height": 35
        }
      },
      "source": [
        "data_o.shape"
      ],
      "execution_count": 250,
      "outputs": [
        {
          "output_type": "execute_result",
          "data": {
            "text/plain": [
              "(361, 44)"
            ]
          },
          "metadata": {
            "tags": []
          },
          "execution_count": 250
        }
      ]
    },
    {
      "cell_type": "code",
      "metadata": {
        "id": "pgKSD2ts89fp"
      },
      "source": [
        "Y = data_o[\"ClassLabel\"].values\n",
        "X = data_o.drop(columns=['ClassLabel']).values"
      ],
      "execution_count": 251,
      "outputs": []
    },
    {
      "cell_type": "code",
      "metadata": {
        "id": "4TMHQ-Lr89fx"
      },
      "source": [
        "X.shape\n",
        "rows=X.shape[0]"
      ],
      "execution_count": 252,
      "outputs": []
    },
    {
      "cell_type": "code",
      "metadata": {
        "id": "QIB9D6fl89gD",
        "outputId": "756f4d39-27e5-4797-ba82-a258e223a1ac",
        "colab": {
          "base_uri": "https://localhost:8080/",
          "height": 35
        }
      },
      "source": [
        "Y.shape"
      ],
      "execution_count": 253,
      "outputs": [
        {
          "output_type": "execute_result",
          "data": {
            "text/plain": [
              "(361,)"
            ]
          },
          "metadata": {
            "tags": []
          },
          "execution_count": 253
        }
      ]
    },
    {
      "cell_type": "code",
      "metadata": {
        "id": "2bnnaGwS89gT"
      },
      "source": [
        "X_in, Y_in, w_initial = CustomMethods.initialization(X,Y)"
      ],
      "execution_count": 254,
      "outputs": []
    },
    {
      "cell_type": "code",
      "metadata": {
        "id": "FedgRCkV1T-H"
      },
      "source": [
        "# create random indices\n",
        "random_ind = np.random.choice(len(Y), size = rows, replace = False)\n",
        "save = random_ind"
      ],
      "execution_count": 255,
      "outputs": []
    },
    {
      "cell_type": "code",
      "metadata": {
        "id": "ruUexIIf89gi"
      },
      "source": [
        "## 10-fold cross validation\n",
        "\n",
        "o_w,o_c,a,n = CustomMethods.Kfold_cross(X_in,Y_in,w_initial)\n",
        "print(\"Average Accuracy\", np.mean(a))\n",
        "print(\"Average error\", np.mean(100-a))"
      ],
      "execution_count": null,
      "outputs": []
    },
    {
      "cell_type": "code",
      "metadata": {
        "id": "HQWc-cU789gr",
        "outputId": "3a342b2d-668d-4942-fed5-beef643a8c44",
        "colab": {
          "base_uri": "https://localhost:8080/",
          "height": 164
        }
      },
      "source": [
        "train_X, test_X, train_y, test_y = CustomMethods.split(X_in, Y_in)\n",
        "print(\"shape of train data:\")\n",
        "print(train_X.shape, train_y.shape)\n",
        "print(\"shape of test data:\")\n",
        "print(test_X.shape, test_y.shape)"
      ],
      "execution_count": 257,
      "outputs": [
        {
          "output_type": "stream",
          "text": [
            "shape of train data:\n",
            "(289, 44) (289, 1)\n",
            "shape of validation data:\n",
            "(72, 44) (72, 1)\n",
            "shape of train data:\n",
            "(289, 44) (289, 1)\n",
            "shape of test data:\n",
            "(72, 44) (72, 1)\n"
          ],
          "name": "stdout"
        }
      ]
    },
    {
      "cell_type": "code",
      "metadata": {
        "id": "euKkbKaE89g9"
      },
      "source": [
        "regressor = LogisticRegression(w_initial, lr=0.01)\n",
        "o_w, o_c, n = regressor.fit(train_X,train_y)\n",
        "y_pred_train = regressor.predict(o_w, train_X)\n",
        "y_pred_test = regressor.predict(o_w, test_X)"
      ],
      "execution_count": 258,
      "outputs": []
    },
    {
      "cell_type": "code",
      "metadata": {
        "id": "J67coyJ589hT"
      },
      "source": [
        "train_acc = CustomMethods.Accu_eval(train_y, y_pred_train)\n",
        "test_acc = CustomMethods.Accu_eval(test_y,y_pred_test)\n",
        "print(\"Train Accuracy:\", train_acc)\n",
        "print(\"Test Accuracy:\", test_acc)"
      ],
      "execution_count": null,
      "outputs": []
    },
    {
      "cell_type": "code",
      "metadata": {
        "id": "7_NhGvOK89hf"
      },
      "source": [
        "recall_score(test_y, y_pred_test), precision_score(test_y,y_pred_test)\n"
      ],
      "execution_count": null,
      "outputs": []
    },
    {
      "cell_type": "code",
      "metadata": {
        "id": "7ccAclRm89hr"
      },
      "source": [
        "fpr, tpr, thershold = roc_curve(test_y, y_pred_test)\n",
        "plt.figure()\n",
        "plt.plot(fpr, tpr)\n",
        "plt.xlabel(\"False positive rate\")\n",
        "plt.ylabel(\"True positive rate\")\n",
        "plt.title(\"ROC curve\")"
      ],
      "execution_count": null,
      "outputs": []
    },
    {
      "cell_type": "code",
      "metadata": {
        "id": "II9bjZ4D89iB"
      },
      "source": [
        "plt.plot(o_c)\n",
        "plt.xlabel('Iterations')\n",
        "plt.ylabel('cost')\n",
        "plt.title('Value of cost over iterations')"
      ],
      "execution_count": null,
      "outputs": []
    },
    {
      "cell_type": "markdown",
      "metadata": {
        "id": "usCmHX0yUwE-"
      },
      "source": [
        "# Model 5 \n",
        "Outlier removal + feature expansion"
      ]
    },
    {
      "cell_type": "code",
      "metadata": {
        "id": "dBD4lj2JUwFA",
        "outputId": "dbe84884-cc31-42cf-9311-782478ec75b7",
        "colab": {
          "base_uri": "https://localhost:8080/",
          "height": 35
        }
      },
      "source": [
        "Bankrupcy_csv = pd.read_csv('/content/drive/My Drive/Colab Notebooks/bankrupcy.csv')\n",
        "data = Bankrupcy_csv\n",
        "data.shape"
      ],
      "execution_count": 264,
      "outputs": [
        {
          "output_type": "execute_result",
          "data": {
            "text/plain": [
              "(453, 65)"
            ]
          },
          "metadata": {
            "tags": []
          },
          "execution_count": 264
        }
      ]
    },
    {
      "cell_type": "code",
      "metadata": {
        "id": "5p7Ss656VJwl",
        "outputId": "8c9cbc66-591e-4ffc-cc6f-fdfd38bf2fec",
        "colab": {
          "base_uri": "https://localhost:8080/",
          "height": 35
        }
      },
      "source": [
        "sqr_atr2 = (data['attribute2'])**2\n",
        "sqr_atr51 = (data['attribute51'])**2\n",
        "sqr_atr25 = (data['attribute25'])**2\n",
        "sqr_atr35 = (data['attribute35'])**2\n",
        "sqr_atr7 = (data['attribute7'])**2\n",
        "sqr_atr16 = (data['attribute16'])**2\n",
        "sqr_atr38 = (data['attribute38'])**2\n",
        "mul_atr2_51 = (data['attribute2'] * data['attribute51'])\n",
        "\n",
        "data['sqr_atr2'] = sqr_atr2\n",
        "data['sqr_atr51'] = sqr_atr51\n",
        "data['sqr_atr25'] = sqr_atr25\n",
        "data['sqr_atr35'] = sqr_atr35\n",
        "data['sqr_atr7'] = sqr_atr7\n",
        "data['sqr_atr16'] = sqr_atr16\n",
        "data['sqr_atr38'] = sqr_atr38\n",
        "data['mul_atr2_51'] = mul_atr2_51\n",
        "\n",
        "data.shape"
      ],
      "execution_count": 265,
      "outputs": [
        {
          "output_type": "execute_result",
          "data": {
            "text/plain": [
              "(453, 73)"
            ]
          },
          "metadata": {
            "tags": []
          },
          "execution_count": 265
        }
      ]
    },
    {
      "cell_type": "code",
      "metadata": {
        "id": "hLEyMn-9UwFK",
        "outputId": "889c9659-4b29-43fd-8918-87b470aad5c5",
        "colab": {
          "base_uri": "https://localhost:8080/",
          "height": 35
        }
      },
      "source": [
        "mean = np.mean(np.mean(data))\n",
        "std = np.std(np.std(data))\n",
        "mean, std"
      ],
      "execution_count": 266,
      "outputs": [
        {
          "output_type": "execute_result",
          "data": {
            "text/plain": [
              "(0.010375838528804929, 0.7355059625499816)"
            ]
          },
          "metadata": {
            "tags": []
          },
          "execution_count": 266
        }
      ]
    },
    {
      "cell_type": "code",
      "metadata": {
        "id": "nSkhjig3UwFT",
        "outputId": "49b9a8bb-ef4d-4b66-fb05-a9c07af7fb5f",
        "colab": {
          "base_uri": "https://localhost:8080/",
          "height": 35
        }
      },
      "source": [
        "maxi =  mean + std*4\n",
        "mini = mean - std*4\n",
        "maxi, mini"
      ],
      "execution_count": 267,
      "outputs": [
        {
          "output_type": "execute_result",
          "data": {
            "text/plain": [
              "(2.952399688728731, -2.9316480116711214)"
            ]
          },
          "metadata": {
            "tags": []
          },
          "execution_count": 267
        }
      ]
    },
    {
      "cell_type": "code",
      "metadata": {
        "id": "LI4wsaQ7UwFa",
        "outputId": "e1a9a174-66a4-45ea-8c61-d4df3f1c3a02",
        "colab": {
          "base_uri": "https://localhost:8080/",
          "height": 35
        }
      },
      "source": [
        "print(data.shape)\n",
        "z = np.abs(stats.zscore(data))\n",
        "data_o = data[(z<2.9).all(axis=1)]"
      ],
      "execution_count": 268,
      "outputs": [
        {
          "output_type": "stream",
          "text": [
            "(453, 73)\n"
          ],
          "name": "stdout"
        }
      ]
    },
    {
      "cell_type": "code",
      "metadata": {
        "id": "G7EcU1CNUwFi",
        "outputId": "6d5537d1-9e86-466e-9bc8-53a35c308437",
        "colab": {
          "base_uri": "https://localhost:8080/",
          "height": 35
        }
      },
      "source": [
        "Y = data_o[\"ClassLabel\"].values\n",
        "X = data_o.drop(columns=['ClassLabel']).values\n",
        "X.shape"
      ],
      "execution_count": 269,
      "outputs": [
        {
          "output_type": "execute_result",
          "data": {
            "text/plain": [
              "(339, 72)"
            ]
          },
          "metadata": {
            "tags": []
          },
          "execution_count": 269
        }
      ]
    },
    {
      "cell_type": "code",
      "metadata": {
        "id": "D34v4JfWUwFs",
        "outputId": "2f989022-8f19-4ec0-a0b8-263ce872f930",
        "colab": {
          "base_uri": "https://localhost:8080/",
          "height": 35
        }
      },
      "source": [
        "X_in, Y_in, w_initial = CustomMethods.initialization(X,Y)\n",
        "rows=X_in.shape[0]\n",
        "X_in.shape"
      ],
      "execution_count": 270,
      "outputs": [
        {
          "output_type": "execute_result",
          "data": {
            "text/plain": [
              "(339, 73)"
            ]
          },
          "metadata": {
            "tags": []
          },
          "execution_count": 270
        }
      ]
    },
    {
      "cell_type": "code",
      "metadata": {
        "id": "IK8IvkLU6jyr"
      },
      "source": [
        "# create random indices\n",
        "random_ind = np.random.choice(len(Y_in), size = rows, replace = False)\n",
        "save = random_ind"
      ],
      "execution_count": 271,
      "outputs": []
    },
    {
      "cell_type": "code",
      "metadata": {
        "id": "g0xgPSvUUwF3"
      },
      "source": [
        "o_w,o_c,a,n = CustomMethods.Kfold_cross(X_in,Y_in,w_initial)\n",
        "print(\"Average Accuracy\", np.mean(a))\n",
        "print(\"Average error\", np.mean(100-a))"
      ],
      "execution_count": null,
      "outputs": []
    },
    {
      "cell_type": "code",
      "metadata": {
        "id": "LVlk2m5UUwGG"
      },
      "source": [
        "train_X, test_X, train_y, test_y = CustomMethods.split(X_in, Y_in)\n",
        "print(\"shape of train data:\")\n",
        "print(train_X.shape, train_y.shape)\n",
        "print(\"shape of test data:\")\n",
        "print(test_X.shape, test_y.shape)"
      ],
      "execution_count": null,
      "outputs": []
    },
    {
      "cell_type": "code",
      "metadata": {
        "id": "TALLVLpOUwGN"
      },
      "source": [
        "regressor = LogisticRegression(w_initial, lr=0.01)\n",
        "o_w, o_c, n = regressor.fit(train_X,train_y)\n",
        "y_pred_train = regressor.predict(o_w, train_X)\n",
        "y_pred_test = regressor.predict(o_w, test_X)"
      ],
      "execution_count": 274,
      "outputs": []
    },
    {
      "cell_type": "code",
      "metadata": {
        "id": "aXIKkNdvUwGT",
        "outputId": "ca3b9d89-2310-47f6-d1e5-fe2d8a619840",
        "colab": {
          "base_uri": "https://localhost:8080/",
          "height": 54
        }
      },
      "source": [
        "train_acc = CustomMethods.Accu_eval(train_y, y_pred_train)\n",
        "test_acc = CustomMethods.Accu_eval(test_y,y_pred_test)\n",
        "print(\"Train Accuracy:\", train_acc)\n",
        "print(\"Test Accuracy:\", test_acc)"
      ],
      "execution_count": null,
      "outputs": [
        {
          "output_type": "stream",
          "text": [
            "Train Accuracy: 82.73092369477911\n",
            "Test Accuracy: 79.03225806451613\n"
          ],
          "name": "stdout"
        }
      ]
    },
    {
      "cell_type": "code",
      "metadata": {
        "id": "Zpbi8zmLUwGZ"
      },
      "source": [
        "recall_score(test_y, y_pred_test), precision_score(test_y,y_pred_test)"
      ],
      "execution_count": null,
      "outputs": []
    },
    {
      "cell_type": "code",
      "metadata": {
        "id": "5EkYWgH1UwGf"
      },
      "source": [
        "fpr, tpr, thershold = roc_curve(test_y, y_pred_test)\n",
        "plt.figure()\n",
        "plt.plot(fpr, tpr)\n",
        "plt.xlabel(\"False positive rate\")\n",
        "plt.ylabel(\"True positive rate\")\n",
        "plt.title(\"ROC curve\")"
      ],
      "execution_count": null,
      "outputs": []
    },
    {
      "cell_type": "code",
      "metadata": {
        "id": "55ySm8yFUwGl"
      },
      "source": [
        "plt.plot(o_c)\n",
        "plt.xlabel('Iterations')\n",
        "plt.ylabel('cost')\n",
        "plt.title('Value of cost over iterations')"
      ],
      "execution_count": null,
      "outputs": []
    },
    {
      "cell_type": "markdown",
      "metadata": {
        "id": "vx8yCy419HKG"
      },
      "source": [
        "Plot cross-entropy as a function of number of iterations"
      ]
    },
    {
      "cell_type": "code",
      "metadata": {
        "id": "LhQk_JvKKIdP",
        "outputId": "80245c0b-c36a-4e84-e405-62528f1cefde",
        "colab": {
          "base_uri": "https://localhost:8080/",
          "height": 466
        }
      },
      "source": [
        "\n",
        "X_training, X_validation, Y_training, Y_validation = CustomMethods.split(X_in, Y_in)\n",
        "column = X_in.shape[1]\n",
        "w = np.zeros((column , 1))\n",
        "LogFitter1 = LogisticRegression(w, 0.001)\n",
        "[w_out, entropies_1, n_1] = LogFitter1.fit(X_training,Y_training)\n",
        "y_predict=LogFitter1.predict(w_out, X_validation)\n",
        "accuracy = CustomMethods.Accu_eval(Y_validation, y_predict)\n",
        "n_1 = range(n_1) \n",
        "\n",
        "\n",
        "w = np.zeros((column , 1))\n",
        "LogFitter1 = LogisticRegression(w, 0.01)\n",
        "[w_out, entropies_2, n_2] = LogFitter1.fit(X_training,Y_training)\n",
        "y_predict=LogFitter1.predict(w_out, X_validation)\n",
        "accuracy = CustomMethods.Accu_eval(Y_validation, y_predict)\n",
        "n_2 = range(n_2) \n",
        "\n",
        "print(accuracy)\n",
        "\n",
        "w = np.zeros((column , 1))\n",
        "LogFitter1 = LogisticRegression(w, 0.1)\n",
        "[w_out, entropies_3, n_3] = LogFitter1.fit(X_training,Y_training)\n",
        "y_predict=LogFitter1.predict(w_out, X_validation)\n",
        "accuracy = CustomMethods.Accu_eval(Y_validation, y_predict)\n",
        "n_3 = range(n_3)\n",
        "\n",
        "w = np.zeros((column , 1))\n",
        "LogFitter1 = LogisticRegression(w, 1)\n",
        "[w_out, entropies_4, n_4] = LogFitter1.fit(X_training,Y_training)\n",
        "y_predict=LogFitter1.predict(w_out, X_validation)\n",
        "accuracy = CustomMethods.Accu_eval(Y_validation, y_predict)\n",
        "n_4 = range(n_4)\n",
        "\n",
        "plt.plot(n_1, entropies_1, 'o--k', markerfacecolor='none', markersize=5)\n",
        "plt.plot(n_2, entropies_2, '^--r', markerfacecolor='none', markersize=5)\n",
        "plt.plot(n_3, entropies_3, 'v--b', markerfacecolor='none', markersize=5)\n",
        "plt.plot(n_4, entropies_4, 's--m', markerfacecolor='none', markersize=5)\n",
        "plt.xlim(0.9, 1000000)\n",
        "plt.xscale('log')\n",
        "# plt.rc('font', size=80)\n",
        "params = {'axes.labelsize': 10,'axes.titlesize':10, 'legend.fontsize': 10, 'xtick.labelsize': 10, 'ytick.labelsize': 12}\n",
        "plt.rcParams.update(params)\n",
        "plt.xlabel('Number of iterations (${N_i}$)')\n",
        "plt.ylabel('Cross-entropy (CE)')\n",
        "# plt.rcParams.update(plt.rcParamsDefault)\n",
        "plt.yticks([0.4, 0.5, 0.6, 0.7])\n",
        "plt.savefig(\"Lr_CE_bankruptcy.eps\")\n",
        "files.download(\"Lr_CE_bankruptcy.eps\") \n"
      ],
      "execution_count": null,
      "outputs": [
        {
          "output_type": "display_data",
          "data": {
            "application/javascript": [
              "\n",
              "    async function download(id, filename, size) {\n",
              "      if (!google.colab.kernel.accessAllowed) {\n",
              "        return;\n",
              "      }\n",
              "      const div = document.createElement('div');\n",
              "      const label = document.createElement('label');\n",
              "      label.textContent = `Downloading \"${filename}\": `;\n",
              "      div.appendChild(label);\n",
              "      const progress = document.createElement('progress');\n",
              "      progress.max = size;\n",
              "      div.appendChild(progress);\n",
              "      document.body.appendChild(div);\n",
              "\n",
              "      const buffers = [];\n",
              "      let downloaded = 0;\n",
              "\n",
              "      const channel = await google.colab.kernel.comms.open(id);\n",
              "      // Send a message to notify the kernel that we're ready.\n",
              "      channel.send({})\n",
              "\n",
              "      for await (const message of channel.messages) {\n",
              "        // Send a message to notify the kernel that we're ready.\n",
              "        channel.send({})\n",
              "        if (message.buffers) {\n",
              "          for (const buffer of message.buffers) {\n",
              "            buffers.push(buffer);\n",
              "            downloaded += buffer.byteLength;\n",
              "            progress.value = downloaded;\n",
              "          }\n",
              "        }\n",
              "      }\n",
              "      const blob = new Blob(buffers, {type: 'application/binary'});\n",
              "      const a = document.createElement('a');\n",
              "      a.href = window.URL.createObjectURL(blob);\n",
              "      a.download = filename;\n",
              "      div.appendChild(a);\n",
              "      a.click();\n",
              "      div.remove();\n",
              "    }\n",
              "  "
            ],
            "text/plain": [
              "<IPython.core.display.Javascript object>"
            ]
          },
          "metadata": {
            "tags": []
          }
        },
        {
          "output_type": "display_data",
          "data": {
            "application/javascript": [
              "download(\"download_6043186c-c2a5-44ee-811c-12da628f6d27\", \"Lr_CE_bankruptcy.eps\", 7035611)"
            ],
            "text/plain": [
              "<IPython.core.display.Javascript object>"
            ]
          },
          "metadata": {
            "tags": []
          }
        },
        {
          "output_type": "display_data",
          "data": {
            "image/png": "[encoded data removed]",
            "text/plain": [
              "<Figure size 640x480 with 1 Axes>"
            ]
          },
          "metadata": {
            "tags": []
          }
        }
      ]
    }
  ]
}